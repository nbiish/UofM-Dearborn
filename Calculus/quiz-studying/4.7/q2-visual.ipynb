{
 "cells": [
  {
   "cell_type": "code",
   "execution_count": null,
   "id": "bfe8d329",
   "metadata": {
    "lines_to_next_cell": 1
   },
   "outputs": [],
   "source": [
    "import numpy as np\n",
    "import matplotlib.pyplot as plt\n",
    "from mpl_toolkits.mplot3d.art3d import Poly3DCollection\n",
    "from mpl_toolkits.mplot3d import Axes3D"
   ]
  },
  {
   "cell_type": "code",
   "execution_count": null,
   "id": "6f4dde88",
   "metadata": {
    "lines_to_next_cell": 1
   },
   "outputs": [],
   "source": [
    "def plot_box_and_surface_area(V=100):  # Default volume of 100 cubic units\n",
    "    # Create figure with two subplots\n",
    "    fig = plt.figure(figsize=(15, 6))\n",
    "    fig.suptitle('Box Optimization Problem (No Top)', fontsize=14)\n",
    "    \n",
    "    # First subplot: 3D box visualization\n",
    "    ax1 = fig.add_subplot(121, projection='3d')\n",
    "    \n",
    "    # Calculate optimal dimensions\n",
    "    x = (7*V/36)**(1/3)\n",
    "    l = 6*x  # longer side\n",
    "    h = V/(6*x**2)\n",
    "    \n",
    "    # Define vertices of the box (without top)\n",
    "    vertices = np.array([\n",
    "        [0, 0, 0],      # 0: bottom front left\n",
    "        [l, 0, 0],      # 1: bottom front right\n",
    "        [l, x, 0],      # 2: bottom back right\n",
    "        [0, x, 0],      # 3: bottom back left\n",
    "        [0, 0, h],      # 4: top front left\n",
    "        [l, 0, h],      # 5: top front right\n",
    "        [l, x, h],      # 6: top back right\n",
    "        [0, x, h]       # 7: top back left\n",
    "    ])\n",
    "    \n",
    "    # Define faces (5 faces, excluding top)\n",
    "    faces = [\n",
    "        [vertices[0], vertices[1], vertices[2], vertices[3]],  # bottom\n",
    "        [vertices[0], vertices[1], vertices[5], vertices[4]],  # front\n",
    "        [vertices[1], vertices[2], vertices[6], vertices[5]],  # right\n",
    "        [vertices[2], vertices[3], vertices[7], vertices[6]],  # back\n",
    "        [vertices[3], vertices[0], vertices[4], vertices[7]]   # left\n",
    "    ]\n",
    "    \n",
    "    # Plot the faces\n",
    "    ax1.add_collection3d(Poly3DCollection(faces, alpha=0.25, facecolor='blue'))\n",
    "    \n",
    "    # Set axis labels\n",
    "    ax1.set_xlabel('Length (6x)')\n",
    "    ax1.set_ylabel('Width (x)')\n",
    "    ax1.set_zlabel('Height (h)')\n",
    "    \n",
    "    # Add dimensions as text\n",
    "    ax1.text(l/2, -x/2, 0, f'Length = {l:.2f}', ha='center')\n",
    "    ax1.text(l+x/2, x/2, 0, f'Width = {x:.2f}', ha='center')\n",
    "    ax1.text(-x/2, x/2, h/2, f'Height = {h:.2f}', ha='center')\n",
    "    \n",
    "    # Set axis limits\n",
    "    max_dim = max(l, x, h)\n",
    "    ax1.set_xlim([-max_dim/4, l+max_dim/4])\n",
    "    ax1.set_ylim([-max_dim/4, x+max_dim/4])\n",
    "    ax1.set_zlim([0, h+max_dim/4])\n",
    "    \n",
    "    # Second subplot: Surface Area as function of x\n",
    "    ax2 = fig.add_subplot(122)\n",
    "    \n",
    "    # Create x values for plotting\n",
    "    x_vals = np.linspace(x/2, x*2, 100)\n",
    "    \n",
    "    # Calculate surface area for each x value\n",
    "    A = 6*x_vals**2 + 7*V/(3*x_vals)\n",
    "    \n",
    "    # Plot surface area\n",
    "    ax2.plot(x_vals, A, 'b-', label='Surface Area')\n",
    "    ax2.plot(x, 6*x**2 + 7*V/(3*x), 'ro', label='Minimum Point')\n",
    "    \n",
    "    ax2.set_xlabel('Width (x)')\n",
    "    ax2.set_ylabel('Surface Area')\n",
    "    ax2.set_title('Surface Area vs Width')\n",
    "    ax2.grid(True)\n",
    "    ax2.legend()\n",
    "    \n",
    "    plt.tight_layout()\n",
    "    plt.show()"
   ]
  },
  {
   "cell_type": "code",
   "execution_count": null,
   "id": "8ad1a7c6",
   "metadata": {},
   "outputs": [],
   "source": [
    "if __name__ == \"__main__\":\n",
    "    plot_box_and_surface_area(100)  # Using volume = 100 as example"
   ]
  }
 ],
 "metadata": {
  "jupytext": {
   "cell_metadata_filter": "-all",
   "main_language": "python",
   "notebook_metadata_filter": "-all"
  }
 },
 "nbformat": 4,
 "nbformat_minor": 5
}